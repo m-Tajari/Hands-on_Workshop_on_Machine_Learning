{
 "cells": [
  {
   "cell_type": "markdown",
   "metadata": {
    "deletable": false,
    "editable": false,
    "heading_collapsed": true,
    "run_control": {
     "frozen": true
    }
   },
   "source": [
    "# CE-40717: Machine Learning"
   ]
  },
  {
   "cell_type": "markdown",
   "metadata": {
    "deletable": false,
    "editable": false,
    "heading_collapsed": true,
    "hidden": true,
    "run_control": {
     "frozen": true
    }
   },
   "source": [
    "## Hands-On Workshop - Second Session"
   ]
  },
  {
   "cell_type": "markdown",
   "metadata": {
    "deletable": false,
    "editable": false,
    "heading_collapsed": true,
    "hidden": true,
    "run_control": {
     "frozen": true
    }
   },
   "source": [
    "### Python for Data Analysis-NumPy\n",
    "NumPy is a Linear Algebra Library for Python. The reason it is so important for Data Science with Python is that almost all of the libraries in the PyData Ecosystem rely on NumPy as one of their main building blocks. NumPy is also incredibly fast, as it has bindings to C libraries. NumPy has many built-in functions and capabilities. We won't cover them all but instead we will focus on some of the most important aspects of NumPy.\n",
    "<br><br/>\n",
    "This part of the notebook will just go through the basic topics in order:\n",
    ">- [Arrays](#Arrays)\n",
    ">    - [Creation](#Creation)\n",
    ">    - [Shape Manipulation](#Shape-Manipulation)\n",
    ">    - [View <span style=\"color:red\">vs</span> Copy](#View-vs-Copy)\n",
    ">    - [Save & Load](#Save-&-Load)\n",
    ">- [Indexing & Slicing](#Indexing-&-Slicing)\n",
    ">- [Basic Array Operations](#Basic-Array-Operations)\n",
    ">- [Broadcasting](#Broadcasting)\n",
    ">- [Universal Array Functions](#Universal-Array-Functions)\n",
    ">- [More Useful Array Operations](#More-Useful-Array-Operations)\n",
    "<br><br/>\n",
    ">- <code>***Exercise***</code>"
   ]
  },
  {
   "cell_type": "code",
   "execution_count": 1,
   "metadata": {
    "ExecuteTime": {
     "end_time": "2021-03-05T08:44:55.044248Z",
     "start_time": "2021-03-05T08:44:55.039190Z"
    },
    "hidden": true
   },
   "outputs": [],
   "source": [
    "# Importing numpy module into our notebook\n",
    "import numpy as np"
   ]
  },
  {
   "cell_type": "markdown",
   "metadata": {
    "deletable": false,
    "editable": false,
    "heading_collapsed": true,
    "hidden": true,
    "run_control": {
     "frozen": true
    }
   },
   "source": [
    "#### Arrays\n",
    "NumPy arrays are the main way we will use NumPy throughout the course. NumPy arrays essentially come in two flavors: vectors and matrices. Vectors are strictly 1d arrays and matrices are 2d (note that a matrix can still have only one row or one column). Let's begin our introduction by exploring how to create NumPy arrays."
   ]
  },
  {
   "cell_type": "markdown",
   "metadata": {
    "deletable": false,
    "editable": false,
    "heading_collapsed": true,
    "hidden": true,
    "run_control": {
     "frozen": true
    }
   },
   "source": [
    "##### Creation"
   ]
  },
  {
   "cell_type": "code",
   "execution_count": 2,
   "metadata": {
    "ExecuteTime": {
     "end_time": "2021-03-05T08:44:55.725472Z",
     "start_time": "2021-03-05T08:44:55.716498Z"
    },
    "hidden": true
   },
   "outputs": [
    {
     "data": {
      "text/plain": [
       "[1, -1, 7]"
      ]
     },
     "execution_count": 2,
     "metadata": {},
     "output_type": "execute_result"
    }
   ],
   "source": [
    "lst = [1, -1, 7]\n",
    "lst"
   ]
  },
  {
   "cell_type": "code",
   "execution_count": 3,
   "metadata": {
    "ExecuteTime": {
     "end_time": "2021-03-05T08:44:55.733447Z",
     "start_time": "2021-03-05T08:44:55.728489Z"
    },
    "hidden": true
   },
   "outputs": [
    {
     "data": {
      "text/plain": [
       "array([ 1, -1,  7])"
      ]
     },
     "execution_count": 3,
     "metadata": {},
     "output_type": "execute_result"
    }
   ],
   "source": [
    "arr = np.array(object=lst)\n",
    "arr"
   ]
  },
  {
   "cell_type": "code",
   "execution_count": 4,
   "metadata": {
    "ExecuteTime": {
     "end_time": "2021-03-05T08:44:55.745415Z",
     "start_time": "2021-03-05T08:44:55.735442Z"
    },
    "hidden": true
   },
   "outputs": [
    {
     "name": "stdout",
     "output_type": "stream",
     "text": [
      "<class 'numpy.ndarray'>\n",
      "int32\n",
      "1\n",
      "(3,)\n",
      "3\n"
     ]
    }
   ],
   "source": [
    "print(type(arr))\n",
    "print(arr.dtype)    # tuple, arry shape\n",
    "print(arr.ndim)     # int, number of array dimension\n",
    "print(arr.shape)    # Data-type of the array's elements\n",
    "print(arr.size)     # Number of elements in the array"
   ]
  },
  {
   "cell_type": "code",
   "execution_count": 5,
   "metadata": {
    "ExecuteTime": {
     "end_time": "2021-03-05T08:44:55.759380Z",
     "start_time": "2021-03-05T08:44:55.747410Z"
    },
    "hidden": true
   },
   "outputs": [
    {
     "data": {
      "text/plain": [
       "array([ 1., -1.,  7.], dtype=float16)"
      ]
     },
     "execution_count": 5,
     "metadata": {},
     "output_type": "execute_result"
    }
   ],
   "source": [
    "arr = np.array(object=lst, dtype=np.float16)\n",
    "arr"
   ]
  },
  {
   "cell_type": "code",
   "execution_count": 6,
   "metadata": {
    "ExecuteTime": {
     "end_time": "2021-03-05T08:44:55.768388Z",
     "start_time": "2021-03-05T08:44:55.762370Z"
    },
    "hidden": true
   },
   "outputs": [
    {
     "name": "stdout",
     "output_type": "stream",
     "text": [
      "float16\n"
     ]
    }
   ],
   "source": [
    "print(arr.dtype)"
   ]
  },
  {
   "cell_type": "code",
   "execution_count": 7,
   "metadata": {
    "ExecuteTime": {
     "end_time": "2021-03-05T08:44:55.788317Z",
     "start_time": "2021-03-05T08:44:55.770348Z"
    },
    "hidden": true
   },
   "outputs": [
    {
     "data": {
      "text/plain": [
       "[[1, 2, 3], [4, 5, 6], [7, 8, 9]]"
      ]
     },
     "execution_count": 7,
     "metadata": {},
     "output_type": "execute_result"
    }
   ],
   "source": [
    "matrix = [[1,2,3],[4,5,6],[7,8,9]]\n",
    "matrix"
   ]
  },
  {
   "cell_type": "code",
   "execution_count": 8,
   "metadata": {
    "ExecuteTime": {
     "end_time": "2021-03-05T08:44:55.799279Z",
     "start_time": "2021-03-05T08:44:55.790295Z"
    },
    "hidden": true,
    "scrolled": true
   },
   "outputs": [
    {
     "data": {
      "text/plain": [
       "matrix([[1, 2, 3],\n",
       "        [4, 5, 6],\n",
       "        [7, 8, 9]])"
      ]
     },
     "execution_count": 8,
     "metadata": {},
     "output_type": "execute_result"
    }
   ],
   "source": [
    "mat = np.matrix(data=matrix)\n",
    "mat"
   ]
  },
  {
   "cell_type": "code",
   "execution_count": 9,
   "metadata": {
    "ExecuteTime": {
     "end_time": "2021-03-05T08:44:55.811239Z",
     "start_time": "2021-03-05T08:44:55.801268Z"
    },
    "hidden": true
   },
   "outputs": [
    {
     "name": "stdout",
     "output_type": "stream",
     "text": [
      "<class 'numpy.matrix'>\n",
      "int32\n",
      "2\n",
      "(3, 3)\n",
      "9\n"
     ]
    }
   ],
   "source": [
    "print(type(mat))\n",
    "print(mat.dtype)\n",
    "print(mat.ndim)\n",
    "print(mat.shape)\n",
    "print(mat.size)"
   ]
  },
  {
   "cell_type": "code",
   "execution_count": 10,
   "metadata": {
    "ExecuteTime": {
     "end_time": "2021-03-05T08:44:55.820249Z",
     "start_time": "2021-03-05T08:44:55.813233Z"
    },
    "hidden": true
   },
   "outputs": [
    {
     "data": {
      "text/plain": [
       "array([[1, 2, 3],\n",
       "       [4, 5, 6],\n",
       "       [7, 8, 9]])"
      ]
     },
     "execution_count": 10,
     "metadata": {},
     "output_type": "execute_result"
    }
   ],
   "source": [
    "mat = np.array(object=matrix)\n",
    "mat"
   ]
  },
  {
   "cell_type": "code",
   "execution_count": 11,
   "metadata": {
    "ExecuteTime": {
     "end_time": "2021-03-05T08:44:55.832186Z",
     "start_time": "2021-03-05T08:44:55.823212Z"
    },
    "hidden": true
   },
   "outputs": [
    {
     "name": "stdout",
     "output_type": "stream",
     "text": [
      "<class 'numpy.ndarray'>\n",
      "int32\n",
      "2\n",
      "(3, 3)\n",
      "9\n"
     ]
    }
   ],
   "source": [
    "print(type(mat))\n",
    "print(mat.dtype)\n",
    "print(mat.ndim)\n",
    "print(mat.shape)\n",
    "print(mat.size)"
   ]
  },
  {
   "cell_type": "code",
   "execution_count": 12,
   "metadata": {
    "ExecuteTime": {
     "end_time": "2021-03-05T08:44:55.842171Z",
     "start_time": "2021-03-05T08:44:55.834178Z"
    },
    "hidden": true
   },
   "outputs": [
    {
     "data": {
      "text/plain": [
       "array([[0., 0., 0.],\n",
       "       [0., 0., 0.]])"
      ]
     },
     "execution_count": 12,
     "metadata": {},
     "output_type": "execute_result"
    }
   ],
   "source": [
    "np.zeros(shape=(2,3))"
   ]
  },
  {
   "cell_type": "code",
   "execution_count": 13,
   "metadata": {
    "ExecuteTime": {
     "end_time": "2021-03-05T08:44:55.853154Z",
     "start_time": "2021-03-05T08:44:55.844151Z"
    },
    "hidden": true
   },
   "outputs": [
    {
     "data": {
      "text/plain": [
       "array([[1., 1.],\n",
       "       [1., 1.],\n",
       "       [1., 1.]])"
      ]
     },
     "execution_count": 13,
     "metadata": {},
     "output_type": "execute_result"
    }
   ],
   "source": [
    "np.ones(shape=(3,2))"
   ]
  },
  {
   "cell_type": "code",
   "execution_count": 14,
   "metadata": {
    "ExecuteTime": {
     "end_time": "2021-03-05T08:44:55.864134Z",
     "start_time": "2021-03-05T08:44:55.855122Z"
    },
    "hidden": true,
    "scrolled": true
   },
   "outputs": [
    {
     "data": {
      "text/plain": [
       "array([[0., 0., 0., 0.],\n",
       "       [1., 0., 0., 0.],\n",
       "       [0., 1., 0., 0.],\n",
       "       [0., 0., 1., 0.]])"
      ]
     },
     "execution_count": 14,
     "metadata": {},
     "output_type": "execute_result"
    }
   ],
   "source": [
    "np.eye(N=4, k=-1)"
   ]
  },
  {
   "cell_type": "code",
   "execution_count": 15,
   "metadata": {
    "ExecuteTime": {
     "end_time": "2021-03-05T08:44:55.873087Z",
     "start_time": "2021-03-05T08:44:55.866092Z"
    },
    "hidden": true
   },
   "outputs": [
    {
     "data": {
      "text/plain": [
       "array([2, 5, 8])"
      ]
     },
     "execution_count": 15,
     "metadata": {},
     "output_type": "execute_result"
    }
   ],
   "source": [
    "np.arange(start=2, stop=11, step=3)"
   ]
  },
  {
   "cell_type": "code",
   "execution_count": 16,
   "metadata": {
    "ExecuteTime": {
     "end_time": "2021-03-05T08:44:55.884044Z",
     "start_time": "2021-03-05T08:44:55.874076Z"
    },
    "hidden": true
   },
   "outputs": [
    {
     "data": {
      "text/plain": [
       "array([ 1. ,  2.5,  4. ,  5.5,  7. ,  8.5, 10. , 11.5, 13. ])"
      ]
     },
     "execution_count": 16,
     "metadata": {},
     "output_type": "execute_result"
    }
   ],
   "source": [
    "np.linspace(start=1, stop=13, num=9)"
   ]
  },
  {
   "cell_type": "code",
   "execution_count": 17,
   "metadata": {
    "ExecuteTime": {
     "end_time": "2021-03-05T08:44:56.194214Z",
     "start_time": "2021-03-05T08:44:55.886039Z"
    },
    "hidden": true
   },
   "outputs": [
    {
     "data": {
      "text/plain": [
       "array([[0.91880107, 0.60264886, 0.33873721],\n",
       "       [0.6511602 , 0.98557609, 0.00636224]])"
      ]
     },
     "execution_count": 17,
     "metadata": {},
     "output_type": "execute_result"
    }
   ],
   "source": [
    "np.random.rand(2,3)"
   ]
  },
  {
   "cell_type": "code",
   "execution_count": 18,
   "metadata": {
    "ExecuteTime": {
     "end_time": "2021-03-05T08:44:56.208196Z",
     "start_time": "2021-03-05T08:44:56.196211Z"
    },
    "hidden": true
   },
   "outputs": [
    {
     "data": {
      "text/plain": [
       "array([[ 0.59441158, -1.84746148, -0.2173215 ],\n",
       "       [-0.91392213,  0.01494827, -0.74258223]])"
      ]
     },
     "execution_count": 18,
     "metadata": {},
     "output_type": "execute_result"
    }
   ],
   "source": [
    "np.random.randn(2,3)"
   ]
  },
  {
   "cell_type": "code",
   "execution_count": 19,
   "metadata": {
    "ExecuteTime": {
     "end_time": "2021-03-05T08:44:56.221176Z",
     "start_time": "2021-03-05T08:44:56.210171Z"
    },
    "hidden": true
   },
   "outputs": [
    {
     "data": {
      "text/plain": [
       "array([[ 0,  0,  2,  0],\n",
       "       [ 3,  3,  3, -1],\n",
       "       [ 6,  2,  0,  2]])"
      ]
     },
     "execution_count": 19,
     "metadata": {},
     "output_type": "execute_result"
    }
   ],
   "source": [
    "np.random.randint(low=-1, high=7, size=(3,4))"
   ]
  },
  {
   "cell_type": "markdown",
   "metadata": {
    "deletable": false,
    "editable": false,
    "heading_collapsed": true,
    "hidden": true,
    "run_control": {
     "frozen": true
    }
   },
   "source": [
    "###### Other methods of array creation:\n",
    "- np.full\n",
    "- np.empty\n",
    "- np.empty_like\n",
    "- np.zeros_like\n",
    "- ..."
   ]
  },
  {
   "cell_type": "markdown",
   "metadata": {
    "deletable": false,
    "editable": false,
    "heading_collapsed": true,
    "hidden": true,
    "run_control": {
     "frozen": true
    }
   },
   "source": [
    "##### Shape Manipulation"
   ]
  },
  {
   "cell_type": "code",
   "execution_count": 20,
   "metadata": {
    "ExecuteTime": {
     "end_time": "2021-03-05T08:44:56.557243Z",
     "start_time": "2021-03-05T08:44:56.551262Z"
    },
    "hidden": true
   },
   "outputs": [
    {
     "data": {
      "text/plain": [
       "array([[ 1,  2,  3],\n",
       "       [ 4,  5,  6],\n",
       "       [ 7,  8,  9],\n",
       "       [10, 11, 12],\n",
       "       [13, 14, 15]])"
      ]
     },
     "execution_count": 20,
     "metadata": {},
     "output_type": "execute_result"
    }
   ],
   "source": [
    "mat = np.array(([[ 1, 2, 3],\n",
    "                 [ 4, 5, 6],\n",
    "                 [ 7, 8, 9],\n",
    "                 [10,11,12],\n",
    "                 [13,14,15]]))\n",
    "mat"
   ]
  },
  {
   "cell_type": "code",
   "execution_count": 21,
   "metadata": {
    "ExecuteTime": {
     "end_time": "2021-03-05T08:44:56.569219Z",
     "start_time": "2021-03-05T08:44:56.561233Z"
    },
    "hidden": true
   },
   "outputs": [
    {
     "data": {
      "text/plain": [
       "array([[ 1,  4,  7, 10, 13],\n",
       "       [ 2,  5,  8, 11, 14],\n",
       "       [ 3,  6,  9, 12, 15]])"
      ]
     },
     "execution_count": 21,
     "metadata": {},
     "output_type": "execute_result"
    }
   ],
   "source": [
    "mat.T"
   ]
  },
  {
   "cell_type": "code",
   "execution_count": 22,
   "metadata": {
    "ExecuteTime": {
     "end_time": "2021-03-05T08:44:56.584173Z",
     "start_time": "2021-03-05T08:44:56.571207Z"
    },
    "hidden": true
   },
   "outputs": [
    {
     "data": {
      "text/plain": [
       "array([[ 1,  2,  3],\n",
       "       [ 4,  5,  6],\n",
       "       [ 7,  8,  9],\n",
       "       [10, 11, 12],\n",
       "       [13, 14, 15]])"
      ]
     },
     "execution_count": 22,
     "metadata": {},
     "output_type": "execute_result"
    }
   ],
   "source": [
    "mat.transpose([0,1])"
   ]
  },
  {
   "cell_type": "code",
   "execution_count": 23,
   "metadata": {
    "ExecuteTime": {
     "end_time": "2021-03-05T08:44:56.597137Z",
     "start_time": "2021-03-05T08:44:56.586167Z"
    },
    "hidden": true
   },
   "outputs": [
    {
     "data": {
      "text/plain": [
       "array([[ 1,  4,  7, 10, 13],\n",
       "       [ 2,  5,  8, 11, 14],\n",
       "       [ 3,  6,  9, 12, 15]])"
      ]
     },
     "execution_count": 23,
     "metadata": {},
     "output_type": "execute_result"
    }
   ],
   "source": [
    "mat.transpose([1,0])"
   ]
  },
  {
   "cell_type": "code",
   "execution_count": 24,
   "metadata": {
    "ExecuteTime": {
     "end_time": "2021-03-05T08:44:56.609104Z",
     "start_time": "2021-03-05T08:44:56.599131Z"
    },
    "hidden": true
   },
   "outputs": [
    {
     "data": {
      "text/plain": [
       "array([[ 1,  4,  7, 10, 13],\n",
       "       [ 2,  5,  8, 11, 14],\n",
       "       [ 3,  6,  9, 12, 15]])"
      ]
     },
     "execution_count": 24,
     "metadata": {},
     "output_type": "execute_result"
    }
   ],
   "source": [
    "mat.transpose()"
   ]
  },
  {
   "cell_type": "code",
   "execution_count": 25,
   "metadata": {
    "ExecuteTime": {
     "end_time": "2021-03-05T08:44:56.616085Z",
     "start_time": "2021-03-05T08:44:56.611099Z"
    },
    "hidden": true
   },
   "outputs": [
    {
     "data": {
      "text/plain": [
       "array([1, 2, 3, 4])"
      ]
     },
     "execution_count": 25,
     "metadata": {},
     "output_type": "execute_result"
    }
   ],
   "source": [
    "arr = np.array([1,2,3,4])\n",
    "arr"
   ]
  },
  {
   "cell_type": "code",
   "execution_count": 26,
   "metadata": {
    "ExecuteTime": {
     "end_time": "2021-03-05T08:44:56.626059Z",
     "start_time": "2021-03-05T08:44:56.617083Z"
    },
    "hidden": true
   },
   "outputs": [
    {
     "data": {
      "text/plain": [
       "array([[1, 2, 3, 4]])"
      ]
     },
     "execution_count": 26,
     "metadata": {},
     "output_type": "execute_result"
    }
   ],
   "source": [
    "arr.reshape(1,4)"
   ]
  },
  {
   "cell_type": "code",
   "execution_count": 27,
   "metadata": {
    "ExecuteTime": {
     "end_time": "2021-03-05T08:44:56.637031Z",
     "start_time": "2021-03-05T08:44:56.628054Z"
    },
    "hidden": true
   },
   "outputs": [
    {
     "data": {
      "text/plain": [
       "(1, 4)"
      ]
     },
     "execution_count": 27,
     "metadata": {},
     "output_type": "execute_result"
    }
   ],
   "source": [
    "arr.reshape(1,4).shape"
   ]
  },
  {
   "cell_type": "code",
   "execution_count": 28,
   "metadata": {
    "ExecuteTime": {
     "end_time": "2021-03-05T08:44:56.648029Z",
     "start_time": "2021-03-05T08:44:56.639027Z"
    },
    "hidden": true
   },
   "outputs": [
    {
     "data": {
      "text/plain": [
       "array([[1, 2],\n",
       "       [3, 4]])"
      ]
     },
     "execution_count": 28,
     "metadata": {},
     "output_type": "execute_result"
    }
   ],
   "source": [
    "arr.reshape(2,2)"
   ]
  },
  {
   "cell_type": "code",
   "execution_count": 29,
   "metadata": {
    "ExecuteTime": {
     "end_time": "2021-03-05T08:44:56.660969Z",
     "start_time": "2021-03-05T08:44:56.649995Z"
    },
    "hidden": true
   },
   "outputs": [
    {
     "data": {
      "text/plain": [
       "array([[1, 3],\n",
       "       [2, 4]])"
      ]
     },
     "execution_count": 29,
     "metadata": {},
     "output_type": "execute_result"
    }
   ],
   "source": [
    "arr.reshape(2,2, order='F')    # F means to read/write the elements using Fortran-like index order"
   ]
  },
  {
   "cell_type": "markdown",
   "metadata": {
    "deletable": false,
    "editable": false,
    "heading_collapsed": true,
    "hidden": true,
    "run_control": {
     "frozen": true
    }
   },
   "source": [
    "##### View <span style=\"color:red\">vs</span> Copy"
   ]
  },
  {
   "cell_type": "code",
   "execution_count": 30,
   "metadata": {
    "ExecuteTime": {
     "end_time": "2021-03-05T08:44:57.011029Z",
     "start_time": "2021-03-05T08:44:57.005046Z"
    },
    "code_folding": [],
    "hidden": true
   },
   "outputs": [
    {
     "data": {
      "text/plain": [
       "array([-3, -2, -1,  0,  1,  2,  3,  4,  5,  6])"
      ]
     },
     "execution_count": 30,
     "metadata": {},
     "output_type": "execute_result"
    }
   ],
   "source": [
    "# Data is not copied, it's a view of the original array! This avoids memory problems!\n",
    "a = np.arange(start=-3, stop=7)\n",
    "b = a    # b = a.view()\n",
    "a"
   ]
  },
  {
   "cell_type": "code",
   "execution_count": 31,
   "metadata": {
    "ExecuteTime": {
     "end_time": "2021-03-05T08:44:57.019015Z",
     "start_time": "2021-03-05T08:44:57.014024Z"
    },
    "hidden": true
   },
   "outputs": [
    {
     "data": {
      "text/plain": [
       "array([-3, -2, -1,  0,  1,  2,  3,  4,  5,  6])"
      ]
     },
     "execution_count": 31,
     "metadata": {},
     "output_type": "execute_result"
    }
   ],
   "source": [
    "b"
   ]
  },
  {
   "cell_type": "code",
   "execution_count": 32,
   "metadata": {
    "ExecuteTime": {
     "end_time": "2021-03-05T08:44:57.027985Z",
     "start_time": "2021-03-05T08:44:57.021004Z"
    },
    "hidden": true
   },
   "outputs": [
    {
     "data": {
      "text/plain": [
       "array([-3, -2, -1,  7,  1,  2,  3,  4,  5,  6])"
      ]
     },
     "execution_count": 32,
     "metadata": {},
     "output_type": "execute_result"
    }
   ],
   "source": [
    "b[3] = 7\n",
    "b"
   ]
  },
  {
   "cell_type": "code",
   "execution_count": 33,
   "metadata": {
    "ExecuteTime": {
     "end_time": "2021-03-05T08:44:57.034998Z",
     "start_time": "2021-03-05T08:44:57.029978Z"
    },
    "hidden": true
   },
   "outputs": [
    {
     "data": {
      "text/plain": [
       "array([-3, -2, -1,  7,  1,  2,  3,  4,  5,  6])"
      ]
     },
     "execution_count": 33,
     "metadata": {},
     "output_type": "execute_result"
    }
   ],
   "source": [
    "# Note that the changes also occur in the original array!\n",
    "a"
   ]
  },
  {
   "cell_type": "markdown",
   "metadata": {
    "deletable": false,
    "editable": false,
    "heading_collapsed": true,
    "hidden": true,
    "run_control": {
     "frozen": true
    }
   },
   "source": [
    "###### <span style=\"color:orange\">*To get a copy, need to be explicit*</span>"
   ]
  },
  {
   "cell_type": "code",
   "execution_count": 34,
   "metadata": {
    "ExecuteTime": {
     "end_time": "2021-03-05T08:44:57.401982Z",
     "start_time": "2021-03-05T08:44:57.396027Z"
    },
    "hidden": true
   },
   "outputs": [
    {
     "data": {
      "text/plain": [
       "array([-3, -2, -1,  0,  1,  2,  3,  4,  5,  6])"
      ]
     },
     "execution_count": 34,
     "metadata": {},
     "output_type": "execute_result"
    }
   ],
   "source": [
    "a = np.arange(start=-3, stop=7)\n",
    "b = a.copy()    # b = a.view()\n",
    "a"
   ]
  },
  {
   "cell_type": "code",
   "execution_count": 35,
   "metadata": {
    "ExecuteTime": {
     "end_time": "2021-03-05T08:44:57.409964Z",
     "start_time": "2021-03-05T08:44:57.403980Z"
    },
    "hidden": true
   },
   "outputs": [
    {
     "data": {
      "text/plain": [
       "array([-3, -2, -1,  0,  1,  2,  3,  4,  5,  6])"
      ]
     },
     "execution_count": 35,
     "metadata": {},
     "output_type": "execute_result"
    }
   ],
   "source": [
    "b"
   ]
  },
  {
   "cell_type": "code",
   "execution_count": 36,
   "metadata": {
    "ExecuteTime": {
     "end_time": "2021-03-05T08:44:57.417954Z",
     "start_time": "2021-03-05T08:44:57.411956Z"
    },
    "hidden": true
   },
   "outputs": [
    {
     "data": {
      "text/plain": [
       "array([-3, -2, -1,  7,  1,  2,  3,  4,  5,  6])"
      ]
     },
     "execution_count": 36,
     "metadata": {},
     "output_type": "execute_result"
    }
   ],
   "source": [
    "b[3] = 7\n",
    "b"
   ]
  },
  {
   "cell_type": "code",
   "execution_count": 37,
   "metadata": {
    "ExecuteTime": {
     "end_time": "2021-03-05T08:44:57.425918Z",
     "start_time": "2021-03-05T08:44:57.420932Z"
    },
    "hidden": true
   },
   "outputs": [
    {
     "data": {
      "text/plain": [
       "array([-3, -2, -1,  0,  1,  2,  3,  4,  5,  6])"
      ]
     },
     "execution_count": 37,
     "metadata": {},
     "output_type": "execute_result"
    }
   ],
   "source": [
    "a"
   ]
  },
  {
   "cell_type": "markdown",
   "metadata": {
    "deletable": false,
    "editable": false,
    "heading_collapsed": true,
    "hidden": true,
    "run_control": {
     "frozen": true
    }
   },
   "source": [
    "##### Save & Load"
   ]
  },
  {
   "cell_type": "code",
   "execution_count": 38,
   "metadata": {
    "ExecuteTime": {
     "end_time": "2021-03-05T08:44:57.786256Z",
     "start_time": "2021-03-05T08:44:57.781293Z"
    },
    "hidden": true
   },
   "outputs": [
    {
     "data": {
      "text/plain": [
       "array([[-131,  -92,  -53,  -14,   25,   64,  103],\n",
       "       [-118,  -79,  -40,   -1,   38,   77,  116],\n",
       "       [-105,  -66,  -27,   12,   51,   90,  129]])"
      ]
     },
     "execution_count": 38,
     "metadata": {},
     "output_type": "execute_result"
    }
   ],
   "source": [
    "arr1 = np.arange(start=-131, stop=131, step=13).reshape(3,7, order='F')\n",
    "arr1"
   ]
  },
  {
   "cell_type": "code",
   "execution_count": 39,
   "metadata": {
    "ExecuteTime": {
     "end_time": "2021-03-05T08:44:57.795228Z",
     "start_time": "2021-03-05T08:44:57.789241Z"
    },
    "hidden": true
   },
   "outputs": [],
   "source": [
    "np.save(file=\"./arr1\", arr=arr1)"
   ]
  },
  {
   "cell_type": "code",
   "execution_count": 40,
   "metadata": {
    "ExecuteTime": {
     "end_time": "2021-03-05T08:44:57.812182Z",
     "start_time": "2021-03-05T08:44:57.797226Z"
    },
    "hidden": true
   },
   "outputs": [
    {
     "data": {
      "text/plain": [
       "array([[-131,  -92,  -53,  -14,   25,   64,  103],\n",
       "       [-118,  -79,  -40,   -1,   38,   77,  116],\n",
       "       [-105,  -66,  -27,   12,   51,   90,  129]])"
      ]
     },
     "execution_count": 40,
     "metadata": {},
     "output_type": "execute_result"
    }
   ],
   "source": [
    "np.load(file=\"./arr1.npy\")"
   ]
  },
  {
   "cell_type": "code",
   "execution_count": 41,
   "metadata": {
    "ExecuteTime": {
     "end_time": "2021-03-05T08:44:57.821159Z",
     "start_time": "2021-03-05T08:44:57.814175Z"
    },
    "hidden": true
   },
   "outputs": [
    {
     "data": {
      "text/plain": [
       "array([-7. , -6.5, -6. , -5.5, -5. , -4.5, -4. , -3.5, -3. , -2.5, -2. ,\n",
       "       -1.5, -1. , -0.5,  0. ,  0.5,  1. ,  1.5,  2. ,  2.5,  3. ,  3.5,\n",
       "        4. ,  4.5,  5. ,  5.5,  6. ,  6.5,  7. ])"
      ]
     },
     "execution_count": 41,
     "metadata": {},
     "output_type": "execute_result"
    }
   ],
   "source": [
    "arr2 = np.linspace(start=-7, stop=7, num=29)\n",
    "arr2"
   ]
  },
  {
   "cell_type": "code",
   "execution_count": 42,
   "metadata": {
    "ExecuteTime": {
     "end_time": "2021-03-05T08:44:57.833154Z",
     "start_time": "2021-03-05T08:44:57.823153Z"
    },
    "hidden": true
   },
   "outputs": [],
   "source": [
    "# Save dictionary of arrays\n",
    "np.savez(file=\"./mul-arr\", matrix=arr1, array=arr2)"
   ]
  },
  {
   "cell_type": "code",
   "execution_count": 43,
   "metadata": {
    "ExecuteTime": {
     "end_time": "2021-03-05T08:44:57.856091Z",
     "start_time": "2021-03-05T08:44:57.835119Z"
    },
    "hidden": true
   },
   "outputs": [
    {
     "data": {
      "text/plain": [
       "<numpy.lib.npyio.NpzFile at 0x2b11d904790>"
      ]
     },
     "execution_count": 43,
     "metadata": {},
     "output_type": "execute_result"
    }
   ],
   "source": [
    "np.load(file=\"./mul-arr.npz\")"
   ]
  },
  {
   "cell_type": "code",
   "execution_count": 44,
   "metadata": {
    "ExecuteTime": {
     "end_time": "2021-03-05T08:44:57.865074Z",
     "start_time": "2021-03-05T08:44:57.858058Z"
    },
    "hidden": true
   },
   "outputs": [
    {
     "data": {
      "text/plain": [
       "array([-7. , -6.5, -6. , -5.5, -5. , -4.5, -4. , -3.5, -3. , -2.5, -2. ,\n",
       "       -1.5, -1. , -0.5,  0. ,  0.5,  1. ,  1.5,  2. ,  2.5,  3. ,  3.5,\n",
       "        4. ,  4.5,  5. ,  5.5,  6. ,  6.5,  7. ])"
      ]
     },
     "execution_count": 44,
     "metadata": {},
     "output_type": "execute_result"
    }
   ],
   "source": [
    "# Load the dictionary of arrays\n",
    "dic = np.load(file=\"./mul-arr.npz\")\n",
    "dic[\"array\"]"
   ]
  },
  {
   "cell_type": "code",
   "execution_count": 45,
   "metadata": {
    "ExecuteTime": {
     "end_time": "2021-03-05T08:44:57.874014Z",
     "start_time": "2021-03-05T08:44:57.867034Z"
    },
    "hidden": true
   },
   "outputs": [
    {
     "data": {
      "text/plain": [
       "array([[-131,  -92,  -53,  -14,   25,   64,  103],\n",
       "       [-118,  -79,  -40,   -1,   38,   77,  116],\n",
       "       [-105,  -66,  -27,   12,   51,   90,  129]])"
      ]
     },
     "execution_count": 45,
     "metadata": {},
     "output_type": "execute_result"
    }
   ],
   "source": [
    "dic[\"matrix\"]"
   ]
  },
  {
   "cell_type": "markdown",
   "metadata": {
    "deletable": false,
    "editable": false,
    "heading_collapsed": true,
    "hidden": true,
    "run_control": {
     "frozen": true
    }
   },
   "source": [
    "#### Indexing & Slicing\n",
    "In this part we will discuss how to select elements or groups of elements from an array"
   ]
  },
  {
   "cell_type": "markdown",
   "metadata": {
    "deletable": false,
    "editable": false,
    "hidden": true,
    "run_control": {
     "frozen": true
    }
   },
   "source": [
    "<img src=\"./images/np-indexing&slicing.png\" width=737>"
   ]
  },
  {
   "cell_type": "code",
   "execution_count": 46,
   "metadata": {
    "ExecuteTime": {
     "end_time": "2021-03-05T08:44:58.578134Z",
     "start_time": "2021-03-05T08:44:58.573148Z"
    },
    "hidden": true
   },
   "outputs": [
    {
     "data": {
      "text/plain": [
       "array([ 2,  5,  8, 11, 14, 17, 20, 23, 26])"
      ]
     },
     "execution_count": 46,
     "metadata": {},
     "output_type": "execute_result"
    }
   ],
   "source": [
    "arr1d = np.arange(start=2, stop=29, step=3)\n",
    "arr1d"
   ]
  },
  {
   "cell_type": "code",
   "execution_count": 47,
   "metadata": {
    "ExecuteTime": {
     "end_time": "2021-03-05T08:44:58.586110Z",
     "start_time": "2021-03-05T08:44:58.581125Z"
    },
    "hidden": true
   },
   "outputs": [
    {
     "data": {
      "text/plain": [
       "17"
      ]
     },
     "execution_count": 47,
     "metadata": {},
     "output_type": "execute_result"
    }
   ],
   "source": [
    "arr1d[5]"
   ]
  },
  {
   "cell_type": "code",
   "execution_count": 48,
   "metadata": {
    "ExecuteTime": {
     "end_time": "2021-03-05T08:44:58.595086Z",
     "start_time": "2021-03-05T08:44:58.589130Z"
    },
    "hidden": true
   },
   "outputs": [
    {
     "data": {
      "text/plain": [
       "23"
      ]
     },
     "execution_count": 48,
     "metadata": {},
     "output_type": "execute_result"
    }
   ],
   "source": [
    "arr1d[-2]"
   ]
  },
  {
   "cell_type": "code",
   "execution_count": 49,
   "metadata": {
    "ExecuteTime": {
     "end_time": "2021-03-05T08:44:58.603065Z",
     "start_time": "2021-03-05T08:44:58.597093Z"
    },
    "hidden": true
   },
   "outputs": [
    {
     "data": {
      "text/plain": [
       "array([ 2,  5,  8, 11])"
      ]
     },
     "execution_count": 49,
     "metadata": {},
     "output_type": "execute_result"
    }
   ],
   "source": [
    "arr1d[0:4]"
   ]
  },
  {
   "cell_type": "code",
   "execution_count": 50,
   "metadata": {
    "ExecuteTime": {
     "end_time": "2021-03-05T08:44:58.610046Z",
     "start_time": "2021-03-05T08:44:58.605060Z"
    },
    "hidden": true
   },
   "outputs": [
    {
     "data": {
      "text/plain": [
       "array([ 5,  8, 11])"
      ]
     },
     "execution_count": 50,
     "metadata": {},
     "output_type": "execute_result"
    }
   ],
   "source": [
    "arr1d[1:4]"
   ]
  },
  {
   "cell_type": "code",
   "execution_count": 51,
   "metadata": {
    "ExecuteTime": {
     "end_time": "2021-03-05T08:44:58.618066Z",
     "start_time": "2021-03-05T08:44:58.612043Z"
    },
    "hidden": true
   },
   "outputs": [
    {
     "data": {
      "text/plain": [
       "array([11, 14, 17, 20])"
      ]
     },
     "execution_count": 51,
     "metadata": {},
     "output_type": "execute_result"
    }
   ],
   "source": [
    "arr1d[3:-2]"
   ]
  },
  {
   "cell_type": "code",
   "execution_count": 52,
   "metadata": {
    "ExecuteTime": {
     "end_time": "2021-03-05T08:44:58.626004Z",
     "start_time": "2021-03-05T08:44:58.620021Z"
    },
    "hidden": true
   },
   "outputs": [
    {
     "data": {
      "text/plain": [
       "array([ 2, -1, -1, -1, 14, 17, 20, 23, 26])"
      ]
     },
     "execution_count": 52,
     "metadata": {},
     "output_type": "execute_result"
    }
   ],
   "source": [
    "arr1d[1:4] = -1\n",
    "arr1d"
   ]
  },
  {
   "cell_type": "code",
   "execution_count": 53,
   "metadata": {
    "ExecuteTime": {
     "end_time": "2021-03-05T08:44:58.634979Z",
     "start_time": "2021-03-05T08:44:58.627998Z"
    },
    "hidden": true
   },
   "outputs": [
    {
     "data": {
      "text/plain": [
       "array([[ 1,  5,  9, 13],\n",
       "       [17, 21, 25, 29],\n",
       "       [33, 37, 41, 45],\n",
       "       [49, 53, 57, 61]])"
      ]
     },
     "execution_count": 53,
     "metadata": {},
     "output_type": "execute_result"
    }
   ],
   "source": [
    "arr2d = np.arange(start=1, stop=62, step=4).reshape(4,4)\n",
    "arr2d"
   ]
  },
  {
   "cell_type": "code",
   "execution_count": 54,
   "metadata": {
    "ExecuteTime": {
     "end_time": "2021-03-05T08:44:58.642958Z",
     "start_time": "2021-03-05T08:44:58.636974Z"
    },
    "hidden": true
   },
   "outputs": [
    {
     "data": {
      "text/plain": [
       "array([17, 21, 25, 29])"
      ]
     },
     "execution_count": 54,
     "metadata": {},
     "output_type": "execute_result"
    }
   ],
   "source": [
    "arr2d[1]"
   ]
  },
  {
   "cell_type": "code",
   "execution_count": 55,
   "metadata": {
    "ExecuteTime": {
     "end_time": "2021-03-05T08:44:58.649939Z",
     "start_time": "2021-03-05T08:44:58.644954Z"
    },
    "hidden": true
   },
   "outputs": [
    {
     "data": {
      "text/plain": [
       "array([17, 21, 25, 29])"
      ]
     },
     "execution_count": 55,
     "metadata": {},
     "output_type": "execute_result"
    }
   ],
   "source": [
    "arr2d[1,:]"
   ]
  },
  {
   "cell_type": "code",
   "execution_count": 56,
   "metadata": {
    "ExecuteTime": {
     "end_time": "2021-03-05T08:44:58.658915Z",
     "start_time": "2021-03-05T08:44:58.652932Z"
    },
    "hidden": true
   },
   "outputs": [
    {
     "data": {
      "text/plain": [
       "array([ 5, 21, 37, 53])"
      ]
     },
     "execution_count": 56,
     "metadata": {},
     "output_type": "execute_result"
    }
   ],
   "source": [
    "arr2d[:,1]"
   ]
  },
  {
   "cell_type": "code",
   "execution_count": 57,
   "metadata": {
    "ExecuteTime": {
     "end_time": "2021-03-05T08:44:58.665896Z",
     "start_time": "2021-03-05T08:44:58.659922Z"
    },
    "hidden": true
   },
   "outputs": [
    {
     "data": {
      "text/plain": [
       "17"
      ]
     },
     "execution_count": 57,
     "metadata": {},
     "output_type": "execute_result"
    }
   ],
   "source": [
    "arr2d[1][0]"
   ]
  },
  {
   "cell_type": "code",
   "execution_count": 58,
   "metadata": {
    "ExecuteTime": {
     "end_time": "2021-03-05T08:44:58.673878Z",
     "start_time": "2021-03-05T08:44:58.667892Z"
    },
    "hidden": true
   },
   "outputs": [
    {
     "data": {
      "text/plain": [
       "17"
      ]
     },
     "execution_count": 58,
     "metadata": {},
     "output_type": "execute_result"
    }
   ],
   "source": [
    "arr2d[1,0]"
   ]
  },
  {
   "cell_type": "code",
   "execution_count": 59,
   "metadata": {
    "ExecuteTime": {
     "end_time": "2021-03-05T08:44:58.680857Z",
     "start_time": "2021-03-05T08:44:58.675872Z"
    },
    "hidden": true
   },
   "outputs": [
    {
     "data": {
      "text/plain": [
       "array([[25, 29],\n",
       "       [41, 45]])"
      ]
     },
     "execution_count": 59,
     "metadata": {},
     "output_type": "execute_result"
    }
   ],
   "source": [
    "arr2d[1:3,2:]"
   ]
  },
  {
   "cell_type": "code",
   "execution_count": 60,
   "metadata": {
    "ExecuteTime": {
     "end_time": "2021-03-05T08:44:58.691827Z",
     "start_time": "2021-03-05T08:44:58.681853Z"
    },
    "hidden": true
   },
   "outputs": [
    {
     "data": {
      "text/plain": [
       "array([[ 1.24002374e+180,  2.46454856e-154,  2.47379808e-091,\n",
       "         1.18600496e-259,  6.01347002e-154,  6.01346953e-154,\n",
       "         8.11028038e+016,  5.39948460e-313,  3.27589975e-307,\n",
       "         1.33360327e+241],\n",
       "       [ 5.45649998e-310,  3.40605789e-309,  6.95982737e+194,\n",
       "         8.16552317e-085,  4.73596441e+170,  9.88131292e-324,\n",
       "         4.24399158e-314,  1.42173718e-312,  5.88999333e+250,\n",
       "        -1.06827364e-149],\n",
       "       [ 7.13441583e+091,  5.98233490e-154,  1.17518756e+180,\n",
       "         7.13836018e+252,  4.96013849e+180,  1.71897984e+161,\n",
       "         2.18174380e+243,  9.18887581e+170,  4.82406557e+228,\n",
       "         6.01347002e-154],\n",
       "       [ 3.81187276e+180,  1.27990068e-152,  2.26723914e+161,\n",
       "         9.13601355e+242,  3.55455412e+180,  8.87828675e+252,\n",
       "         1.93975402e+227,  3.67886175e+228,  2.42766848e-154,\n",
       "         2.62785629e+092],\n",
       "       [ 2.04553272e-258,  6.01347002e-154,  4.47593816e-091,\n",
       "         6.01347002e-154,  6.01334635e-154,  1.59704334e+241,\n",
       "         1.38226806e-310, -1.49538150e+036,  1.64338627e-312,\n",
       "         3.38715345e-307],\n",
       "       [ 2.58301534e+161,  4.40180982e-311,  7.09064917e+279,\n",
       "        -1.16504918e-310,  3.45209286e+175,  5.06769522e-314,\n",
       "         0.00000000e+000,  8.48798316e-314,  7.84926243e-311,\n",
       "         2.00807033e+289],\n",
       "       [-3.39394366e-111,  6.01346954e-154,  6.12486778e+257,\n",
       "         2.41317562e+185,  2.31581435e+251,  3.59446362e+246,\n",
       "         4.37336553e+257,  3.09392947e+169,  2.13672446e+161,\n",
       "         5.98149248e-154],\n",
       "       [ 1.42237375e+214,  1.10882960e+200,  6.01334434e-154,\n",
       "         2.76522537e+180,  5.98187384e-154,  4.46811730e-091,\n",
       "         2.44041296e-154,  4.44712982e+217,  3.30704885e-258,\n",
       "         6.01347002e-154],\n",
       "       [ 1.33360322e+241, -6.70939357e-008,  2.17388522e-312,\n",
       "         3.27589975e-307,  1.33360328e+241,  4.42436122e-311,\n",
       "         7.09064917e+279,  1.96099920e+243,  2.88538051e+214,\n",
       "         1.97956843e-316],\n",
       "       [ 4.77830973e-299,  5.62949962e+014,  3.06611814e-313,\n",
       "         1.63332170e-301, -3.33504682e+079,  4.44442072e-312,\n",
       "         3.27589975e-307,  1.33360327e+241,  2.53970727e+151,\n",
       "         3.09913293e-269]])"
      ]
     },
     "execution_count": 60,
     "metadata": {},
     "output_type": "execute_result"
    }
   ],
   "source": [
    "arr3 = np.empty(shape=(10,10))\n",
    "arr3"
   ]
  },
  {
   "cell_type": "code",
   "execution_count": 61,
   "metadata": {
    "ExecuteTime": {
     "end_time": "2021-03-05T08:44:58.701961Z",
     "start_time": "2021-03-05T08:44:58.693825Z"
    },
    "hidden": true
   },
   "outputs": [
    {
     "data": {
      "text/plain": [
       "array([[0., 1., 2., 3., 4., 5., 6., 7., 8., 9.],\n",
       "       [0., 1., 2., 3., 4., 5., 6., 7., 8., 9.],\n",
       "       [0., 1., 2., 3., 4., 5., 6., 7., 8., 9.],\n",
       "       [0., 1., 2., 3., 4., 5., 6., 7., 8., 9.],\n",
       "       [0., 1., 2., 3., 4., 5., 6., 7., 8., 9.],\n",
       "       [0., 1., 2., 3., 4., 5., 6., 7., 8., 9.],\n",
       "       [0., 1., 2., 3., 4., 5., 6., 7., 8., 9.],\n",
       "       [0., 1., 2., 3., 4., 5., 6., 7., 8., 9.],\n",
       "       [0., 1., 2., 3., 4., 5., 6., 7., 8., 9.],\n",
       "       [0., 1., 2., 3., 4., 5., 6., 7., 8., 9.]])"
      ]
     },
     "execution_count": 61,
     "metadata": {},
     "output_type": "execute_result"
    }
   ],
   "source": [
    "for i in range(arr3.shape[0]):\n",
    "    arr3[:,i] = i\n",
    "arr3"
   ]
  },
  {
   "cell_type": "code",
   "execution_count": 62,
   "metadata": {
    "ExecuteTime": {
     "end_time": "2021-03-05T08:44:58.711061Z",
     "start_time": "2021-03-05T08:44:58.704049Z"
    },
    "hidden": true
   },
   "outputs": [
    {
     "data": {
      "text/plain": [
       "array([[1., 7., 4., 1.],\n",
       "       [1., 7., 4., 1.],\n",
       "       [1., 7., 4., 1.],\n",
       "       [1., 7., 4., 1.],\n",
       "       [1., 7., 4., 1.]])"
      ]
     },
     "execution_count": 62,
     "metadata": {},
     "output_type": "execute_result"
    }
   ],
   "source": [
    "arr3[:5,[1,7,4,1]]"
   ]
  },
  {
   "cell_type": "code",
   "execution_count": 63,
   "metadata": {
    "ExecuteTime": {
     "end_time": "2021-03-05T08:44:58.720038Z",
     "start_time": "2021-03-05T08:44:58.713022Z"
    },
    "hidden": true
   },
   "outputs": [
    {
     "data": {
      "text/plain": [
       "array([[-2,  2, -3,  1, -3, -1,  2],\n",
       "       [-1,  1,  1, -6, -7,  4, -2],\n",
       "       [-4, -1,  1,  4, -3,  3,  3],\n",
       "       [ 3, -2, -2,  0,  1,  5, -1],\n",
       "       [ 0,  0, -1,  1, -6,  5,  0],\n",
       "       [ 5,  0, -1,  0,  2, -4, -3],\n",
       "       [ 2,  6,  4,  0,  5, -2, -5]])"
      ]
     },
     "execution_count": 63,
     "metadata": {},
     "output_type": "execute_result"
    }
   ],
   "source": [
    "arr4 = np.random.randint(low=-7, high=7, size=(7,7))\n",
    "arr4"
   ]
  },
  {
   "cell_type": "code",
   "execution_count": 64,
   "metadata": {
    "ExecuteTime": {
     "end_time": "2021-03-05T08:44:58.727028Z",
     "start_time": "2021-03-05T08:44:58.721999Z"
    },
    "hidden": true
   },
   "outputs": [
    {
     "data": {
      "text/plain": [
       "array([[ True,  True,  True,  True,  True,  True,  True],\n",
       "       [ True,  True,  True,  True,  True, False,  True],\n",
       "       [ True,  True,  True, False,  True, False, False],\n",
       "       [False,  True,  True,  True,  True, False,  True],\n",
       "       [ True,  True,  True,  True,  True, False,  True],\n",
       "       [False,  True,  True,  True,  True,  True,  True],\n",
       "       [ True, False, False,  True, False,  True,  True]])"
      ]
     },
     "execution_count": 64,
     "metadata": {},
     "output_type": "execute_result"
    }
   ],
   "source": [
    "arr4 < 3"
   ]
  },
  {
   "cell_type": "code",
   "execution_count": 65,
   "metadata": {
    "ExecuteTime": {
     "end_time": "2021-03-05T08:44:58.734966Z",
     "start_time": "2021-03-05T08:44:58.728981Z"
    },
    "hidden": true
   },
   "outputs": [
    {
     "data": {
      "text/plain": [
       "array([-2,  2, -3,  1, -3, -1,  2, -1,  1,  1, -6, -7, -2, -4, -1,  1, -3,\n",
       "       -2, -2,  0,  1, -1,  0,  0, -1,  1, -6,  0,  0, -1,  0,  2, -4, -3,\n",
       "        2,  0, -2, -5])"
      ]
     },
     "execution_count": 65,
     "metadata": {},
     "output_type": "execute_result"
    }
   ],
   "source": [
    "arr4[arr4 < 3]"
   ]
  },
  {
   "cell_type": "markdown",
   "metadata": {
    "deletable": false,
    "editable": false,
    "heading_collapsed": true,
    "hidden": true,
    "run_control": {
     "frozen": true
    }
   },
   "source": [
    "#### Basic Array Operations"
   ]
  },
  {
   "cell_type": "markdown",
   "metadata": {
    "ExecuteTime": {
     "end_time": "2020-09-24T10:17:30.668375Z",
     "start_time": "2020-09-24T10:17:30.663411Z"
    },
    "deletable": false,
    "editable": false,
    "hidden": true,
    "run_control": {
     "frozen": true
    }
   },
   "source": [
    "<img src=\"./images/np-data,ones.png\" width=737>"
   ]
  },
  {
   "cell_type": "code",
   "execution_count": 66,
   "metadata": {
    "ExecuteTime": {
     "end_time": "2021-03-05T08:44:59.426115Z",
     "start_time": "2021-03-05T08:44:59.420159Z"
    },
    "hidden": true
   },
   "outputs": [
    {
     "name": "stdout",
     "output_type": "stream",
     "text": [
      "data:\t[1 2]\n",
      "ones:\t[1 1]\n"
     ]
    }
   ],
   "source": [
    "data = np.array([1,2])\n",
    "ones = np.ones(2, dtype=np.int16)\n",
    "print(f\"data:\\t{data}\\nones:\\t{ones}\")"
   ]
  },
  {
   "cell_type": "markdown",
   "metadata": {
    "ExecuteTime": {
     "end_time": "2020-09-24T10:22:15.948625Z",
     "start_time": "2020-09-24T10:22:15.943044Z"
    },
    "deletable": false,
    "editable": false,
    "hidden": true,
    "run_control": {
     "frozen": true
    }
   },
   "source": [
    "<img src=\"./images/np-data+ones.png\" width=737>"
   ]
  },
  {
   "cell_type": "code",
   "execution_count": 67,
   "metadata": {
    "ExecuteTime": {
     "end_time": "2021-03-05T08:44:59.774473Z",
     "start_time": "2021-03-05T08:44:59.770453Z"
    },
    "hidden": true
   },
   "outputs": [
    {
     "name": "stdout",
     "output_type": "stream",
     "text": [
      "data+ones is: [2 3]\n"
     ]
    }
   ],
   "source": [
    "# print(f\"data+ones is: {np.add(data, ones)}\")    # Overloaded operators\n",
    "print(f\"data+ones is: {data+ones}\")"
   ]
  },
  {
   "cell_type": "markdown",
   "metadata": {
    "ExecuteTime": {
     "end_time": "2020-09-24T10:22:39.774698Z",
     "start_time": "2020-09-24T10:22:39.770711Z"
    },
    "deletable": false,
    "editable": false,
    "hidden": true,
    "run_control": {
     "frozen": true
    }
   },
   "source": [
    "<img src=\"./images/np-sub_mult_divide.png\" width=737>"
   ]
  },
  {
   "cell_type": "code",
   "execution_count": 68,
   "metadata": {
    "ExecuteTime": {
     "end_time": "2021-03-05T08:45:00.122705Z",
     "start_time": "2021-03-05T08:45:00.117747Z"
    },
    "hidden": true
   },
   "outputs": [
    {
     "name": "stdout",
     "output_type": "stream",
     "text": [
      "data-ones is: [0 1]\n",
      "data*data is: [1 4]\n",
      "data/data is: [1. 1.]\n"
     ]
    }
   ],
   "source": [
    "# print(f\"data-ones is: {np.subtract(data, ones)}\\ndata*data is: {np.multiply(data, data)}\\ndata/data is: {np.divide(data, data)}\\n\")    # Overloaded operators\n",
    "# print(f\"data-ones is: {data-ones}\\ndata*data is: {data*data}\\ndata/data is: {data/data}\\n\")    # Overloaded operators\n",
    "print(f\"data-ones is: {data-ones}\\ndata*data is: {data**2}\\ndata/data is: {data/data}\")"
   ]
  },
  {
   "cell_type": "code",
   "execution_count": 69,
   "metadata": {
    "ExecuteTime": {
     "end_time": "2021-03-05T08:45:00.131681Z",
     "start_time": "2021-03-05T08:45:00.124701Z"
    },
    "hidden": true
   },
   "outputs": [
    {
     "data": {
      "text/plain": [
       "array([[1, 2],\n",
       "       [3, 4],\n",
       "       [5, 6]])"
      ]
     },
     "execution_count": 69,
     "metadata": {},
     "output_type": "execute_result"
    }
   ],
   "source": [
    "data = np.arange(1,7).reshape(3,2)\n",
    "data"
   ]
  },
  {
   "cell_type": "markdown",
   "metadata": {
    "ExecuteTime": {
     "end_time": "2020-09-24T11:44:01.192344Z",
     "start_time": "2020-09-24T11:44:01.186354Z"
    },
    "deletable": false,
    "editable": false,
    "hidden": true,
    "run_control": {
     "frozen": true
    }
   },
   "source": [
    "<img src=\"./images/np-matrix_aggregation.png\" width=737>"
   ]
  },
  {
   "cell_type": "code",
   "execution_count": 70,
   "metadata": {
    "ExecuteTime": {
     "end_time": "2021-03-05T08:45:00.467804Z",
     "start_time": "2021-03-05T08:45:00.462824Z"
    },
    "hidden": true
   },
   "outputs": [
    {
     "name": "stdout",
     "output_type": "stream",
     "text": [
      "data.max:  6\n",
      "\n",
      "data.min:  1\n",
      "\n",
      "data.sum: 21\n"
     ]
    }
   ],
   "source": [
    "print(f\"data.max:{data.max():3d}\\n\\ndata.min:{data.min():3d}\\n\\ndata.sum:{data.sum():3d}\")"
   ]
  },
  {
   "cell_type": "code",
   "execution_count": 71,
   "metadata": {
    "ExecuteTime": {
     "end_time": "2021-03-05T08:45:00.481325Z",
     "start_time": "2021-03-05T08:45:00.471348Z"
    },
    "hidden": true
   },
   "outputs": [
    {
     "data": {
      "text/plain": [
       "array([[1, 2],\n",
       "       [5, 3],\n",
       "       [4, 6]])"
      ]
     },
     "execution_count": 71,
     "metadata": {},
     "output_type": "execute_result"
    }
   ],
   "source": [
    "data = np.array([[1,2],\n",
    "                 [5,3],\n",
    "                 [4,6]])\n",
    "data"
   ]
  },
  {
   "cell_type": "markdown",
   "metadata": {
    "ExecuteTime": {
     "end_time": "2020-09-24T12:15:58.520121Z",
     "start_time": "2020-09-24T12:15:58.515399Z"
    },
    "deletable": false,
    "editable": false,
    "hidden": true,
    "run_control": {
     "frozen": true
    }
   },
   "source": [
    "<img src=\"./images/np-matrix_aggregation_row.png\" width=737>"
   ]
  },
  {
   "cell_type": "code",
   "execution_count": 72,
   "metadata": {
    "ExecuteTime": {
     "end_time": "2021-03-05T08:45:00.806422Z",
     "start_time": "2021-03-05T08:45:00.800483Z"
    },
    "hidden": true
   },
   "outputs": [
    {
     "name": "stdout",
     "output_type": "stream",
     "text": [
      "max.r_wise:\t[2 5 6]\n",
      "argmax.r_wise:\t[1 0 1]\n",
      "max.c_wise:\t[5 6]\n",
      "argmax.c_wise:\t[1 2]\n",
      "\n",
      "min.r_wise:\t[1 3 4]\n",
      "argmin.r_wise:\t[0 1 0]\n",
      "min.c_wise:\t[1 2]\n",
      "argmin.c_wise:\t[0 0]\n",
      "\n",
      "sum.r_wise:\t[ 3  8 10]\n",
      "sum.c_wise:\t[[10 11]]\n"
     ]
    }
   ],
   "source": [
    "print(f\"\\\n",
    "max.r_wise:\\t{data.max(axis=1)}\\nargmax.r_wise:\\t{data.argmax(axis=1)}\\n\\\n",
    "max.c_wise:\\t{data.max(axis=0)}\\nargmax.c_wise:\\t{data.argmax(axis=0)}\\n\\n\\\n",
    "min.r_wise:\\t{data.min(axis=1)}\\nargmin.r_wise:\\t{data.argmin(axis=1)}\\n\\\n",
    "min.c_wise:\\t{data.min(axis=0)}\\nargmin.c_wise:\\t{data.argmin(axis=0)}\\n\\n\\\n",
    "sum.r_wise:\\t{data.sum(axis=1)}\\nsum.c_wise:\\t{data.sum(axis=0, keepdims=True)}\")"
   ]
  },
  {
   "cell_type": "markdown",
   "metadata": {
    "deletable": false,
    "editable": false,
    "heading_collapsed": true,
    "hidden": true,
    "run_control": {
     "frozen": true
    }
   },
   "source": [
    "#### Broadcasting"
   ]
  },
  {
   "cell_type": "code",
   "execution_count": 73,
   "metadata": {
    "ExecuteTime": {
     "end_time": "2021-03-05T08:45:01.142624Z",
     "start_time": "2021-03-05T08:45:01.136658Z"
    },
    "hidden": true
   },
   "outputs": [
    {
     "data": {
      "text/plain": [
       "array([1., 2.], dtype=float16)"
      ]
     },
     "execution_count": 73,
     "metadata": {},
     "output_type": "execute_result"
    }
   ],
   "source": [
    "data = np.array([1,2], dtype=np.float16)\n",
    "data"
   ]
  },
  {
   "cell_type": "markdown",
   "metadata": {
    "ExecuteTime": {
     "end_time": "2020-09-24T12:47:07.403895Z",
     "start_time": "2020-09-24T12:47:07.397053Z"
    },
    "deletable": false,
    "editable": false,
    "hidden": true,
    "run_control": {
     "frozen": true
    }
   },
   "source": [
    "<img src=\"./images/np-multiply_broadcasting.png\" width=737>"
   ]
  },
  {
   "cell_type": "code",
   "execution_count": 74,
   "metadata": {
    "ExecuteTime": {
     "end_time": "2021-03-05T08:45:01.496757Z",
     "start_time": "2021-03-05T08:45:01.490799Z"
    },
    "hidden": true
   },
   "outputs": [
    {
     "data": {
      "text/plain": [
       "array([1.6, 3.2], dtype=float16)"
      ]
     },
     "execution_count": 74,
     "metadata": {},
     "output_type": "execute_result"
    }
   ],
   "source": [
    "data * 1.6"
   ]
  },
  {
   "cell_type": "code",
   "execution_count": 75,
   "metadata": {
    "ExecuteTime": {
     "end_time": "2021-03-05T08:45:01.507725Z",
     "start_time": "2021-03-05T08:45:01.501737Z"
    },
    "hidden": true
   },
   "outputs": [
    {
     "data": {
      "text/plain": [
       "array([[1, 2],\n",
       "       [3, 4],\n",
       "       [5, 6]])"
      ]
     },
     "execution_count": 75,
     "metadata": {},
     "output_type": "execute_result"
    }
   ],
   "source": [
    "data = np.arange(1,7).reshape(3,2)\n",
    "data"
   ]
  },
  {
   "cell_type": "markdown",
   "metadata": {
    "ExecuteTime": {
     "end_time": "2020-09-24T12:49:19.851451Z",
     "start_time": "2020-09-24T12:49:19.845322Z"
    },
    "deletable": false,
    "editable": false,
    "hidden": true,
    "run_control": {
     "frozen": true
    }
   },
   "source": [
    "<img src=\"./images/np-matrix_broadcasting.png\" width=737>"
   ]
  },
  {
   "cell_type": "code",
   "execution_count": 76,
   "metadata": {
    "ExecuteTime": {
     "end_time": "2021-03-05T08:45:01.845393Z",
     "start_time": "2021-03-05T08:45:01.839859Z"
    },
    "hidden": true
   },
   "outputs": [
    {
     "data": {
      "text/plain": [
       "array([[2., 3.],\n",
       "       [4., 5.],\n",
       "       [6., 7.]])"
      ]
     },
     "execution_count": 76,
     "metadata": {},
     "output_type": "execute_result"
    }
   ],
   "source": [
    "data + np.ones(2)"
   ]
  },
  {
   "cell_type": "markdown",
   "metadata": {
    "deletable": false,
    "editable": false,
    "heading_collapsed": true,
    "hidden": true,
    "run_control": {
     "frozen": true
    }
   },
   "source": [
    "#### Universal Array Functions\n",
    "NumPy comes with many [Universal Functions (ufunc)](https://numpy.org/doc/stable/reference/ufuncs.html#available-ufuncs), which are essentially just mathematical operations you can use to perform the operation across the array. Let's show some common ones:"
   ]
  },
  {
   "cell_type": "code",
   "execution_count": 77,
   "metadata": {
    "ExecuteTime": {
     "end_time": "2021-03-05T08:45:02.214868Z",
     "start_time": "2021-03-05T08:45:02.209871Z"
    },
    "hidden": true
   },
   "outputs": [
    {
     "data": {
      "text/plain": [
       "array([[-5,  2,  2,  4],\n",
       "       [ 1,  0, -3,  0],\n",
       "       [-5, -3,  0, -4],\n",
       "       [ 0,  0, -3,  1],\n",
       "       [ 2, -4,  4, -4],\n",
       "       [-4, -6, -2, -4],\n",
       "       [-4,  3,  1,  1]])"
      ]
     },
     "execution_count": 77,
     "metadata": {},
     "output_type": "execute_result"
    }
   ],
   "source": [
    "arr2d = np.random.randint(low=-6, high=6, size=(7,4))\n",
    "arr2d"
   ]
  },
  {
   "cell_type": "code",
   "execution_count": 78,
   "metadata": {
    "ExecuteTime": {
     "end_time": "2021-03-05T08:45:02.228349Z",
     "start_time": "2021-03-05T08:45:02.217868Z"
    },
    "hidden": true
   },
   "outputs": [
    {
     "data": {
      "text/plain": [
       "array([[-1,  1,  1,  1],\n",
       "       [ 1,  0, -1,  0],\n",
       "       [-1, -1,  0, -1],\n",
       "       [ 0,  0, -1,  1],\n",
       "       [ 1, -1,  1, -1],\n",
       "       [-1, -1, -1, -1],\n",
       "       [-1,  1,  1,  1]])"
      ]
     },
     "execution_count": 78,
     "metadata": {},
     "output_type": "execute_result"
    }
   ],
   "source": [
    "np.sign(arr2d)"
   ]
  },
  {
   "cell_type": "code",
   "execution_count": 79,
   "metadata": {
    "ExecuteTime": {
     "end_time": "2021-03-05T08:45:02.236326Z",
     "start_time": "2021-03-05T08:45:02.230343Z"
    },
    "hidden": true
   },
   "outputs": [
    {
     "data": {
      "text/plain": [
       "array([[6.73794700e-03, 7.38905610e+00, 7.38905610e+00, 5.45981500e+01],\n",
       "       [2.71828183e+00, 1.00000000e+00, 4.97870684e-02, 1.00000000e+00],\n",
       "       [6.73794700e-03, 4.97870684e-02, 1.00000000e+00, 1.83156389e-02],\n",
       "       [1.00000000e+00, 1.00000000e+00, 4.97870684e-02, 2.71828183e+00],\n",
       "       [7.38905610e+00, 1.83156389e-02, 5.45981500e+01, 1.83156389e-02],\n",
       "       [1.83156389e-02, 2.47875218e-03, 1.35335283e-01, 1.83156389e-02],\n",
       "       [1.83156389e-02, 2.00855369e+01, 2.71828183e+00, 2.71828183e+00]])"
      ]
     },
     "execution_count": 79,
     "metadata": {},
     "output_type": "execute_result"
    }
   ],
   "source": [
    "np.exp(arr2d)"
   ]
  },
  {
   "cell_type": "code",
   "execution_count": 80,
   "metadata": {
    "ExecuteTime": {
     "end_time": "2021-03-05T08:45:02.244338Z",
     "start_time": "2021-03-05T08:45:02.239319Z"
    },
    "hidden": true
   },
   "outputs": [
    {
     "name": "stderr",
     "output_type": "stream",
     "text": [
      "<ipython-input-80-c9d75bbbe1fc>:1: RuntimeWarning: divide by zero encountered in log\n",
      "  np.log(arr2d)\n",
      "<ipython-input-80-c9d75bbbe1fc>:1: RuntimeWarning: invalid value encountered in log\n",
      "  np.log(arr2d)\n"
     ]
    },
    {
     "data": {
      "text/plain": [
       "array([[       nan, 0.69314718, 0.69314718, 1.38629436],\n",
       "       [0.        ,       -inf,        nan,       -inf],\n",
       "       [       nan,        nan,       -inf,        nan],\n",
       "       [      -inf,       -inf,        nan, 0.        ],\n",
       "       [0.69314718,        nan, 1.38629436,        nan],\n",
       "       [       nan,        nan,        nan,        nan],\n",
       "       [       nan, 1.09861229, 0.        , 0.        ]])"
      ]
     },
     "execution_count": 80,
     "metadata": {},
     "output_type": "execute_result"
    }
   ],
   "source": [
    "np.log(arr2d)"
   ]
  },
  {
   "cell_type": "code",
   "execution_count": 81,
   "metadata": {
    "ExecuteTime": {
     "end_time": "2021-03-05T08:45:02.251287Z",
     "start_time": "2021-03-05T08:45:02.246302Z"
    },
    "hidden": true
   },
   "outputs": [
    {
     "data": {
      "text/plain": [
       "array([[-1.70997595,  1.25992105,  1.25992105,  1.58740105],\n",
       "       [ 1.        ,  0.        , -1.44224957,  0.        ],\n",
       "       [-1.70997595, -1.44224957,  0.        , -1.58740105],\n",
       "       [ 0.        ,  0.        , -1.44224957,  1.        ],\n",
       "       [ 1.25992105, -1.58740105,  1.58740105, -1.58740105],\n",
       "       [-1.58740105, -1.81712059, -1.25992105, -1.58740105],\n",
       "       [-1.58740105,  1.44224957,  1.        ,  1.        ]])"
      ]
     },
     "execution_count": 81,
     "metadata": {},
     "output_type": "execute_result"
    }
   ],
   "source": [
    "np.cbrt(arr2d)"
   ]
  },
  {
   "cell_type": "code",
   "execution_count": 82,
   "metadata": {
    "ExecuteTime": {
     "end_time": "2021-03-05T08:45:02.257283Z",
     "start_time": "2021-03-05T08:45:02.252285Z"
    },
    "hidden": true
   },
   "outputs": [
    {
     "data": {
      "text/plain": [
       "array([[ 0.95892427,  0.90929743,  0.90929743, -0.7568025 ],\n",
       "       [ 0.84147098,  0.        , -0.14112001,  0.        ],\n",
       "       [ 0.95892427, -0.14112001,  0.        ,  0.7568025 ],\n",
       "       [ 0.        ,  0.        , -0.14112001,  0.84147098],\n",
       "       [ 0.90929743,  0.7568025 , -0.7568025 ,  0.7568025 ],\n",
       "       [ 0.7568025 ,  0.2794155 , -0.90929743,  0.7568025 ],\n",
       "       [ 0.7568025 ,  0.14112001,  0.84147098,  0.84147098]])"
      ]
     },
     "execution_count": 82,
     "metadata": {},
     "output_type": "execute_result"
    }
   ],
   "source": [
    "np.sin(arr2d)"
   ]
  },
  {
   "cell_type": "code",
   "execution_count": 83,
   "metadata": {
    "ExecuteTime": {
     "end_time": "2021-03-05T08:45:02.264252Z",
     "start_time": "2021-03-05T08:45:02.258268Z"
    },
    "hidden": true
   },
   "outputs": [
    {
     "data": {
      "text/plain": [
       "array([[-0.9999092 ,  0.96402758,  0.96402758,  0.9993293 ],\n",
       "       [ 0.76159416,  0.        , -0.99505475,  0.        ],\n",
       "       [-0.9999092 , -0.99505475,  0.        , -0.9993293 ],\n",
       "       [ 0.        ,  0.        , -0.99505475,  0.76159416],\n",
       "       [ 0.96402758, -0.9993293 ,  0.9993293 , -0.9993293 ],\n",
       "       [-0.9993293 , -0.99998771, -0.96402758, -0.9993293 ],\n",
       "       [-0.9993293 ,  0.99505475,  0.76159416,  0.76159416]])"
      ]
     },
     "execution_count": 83,
     "metadata": {},
     "output_type": "execute_result"
    }
   ],
   "source": [
    "np.tanh(arr2d)"
   ]
  },
  {
   "cell_type": "code",
   "execution_count": 84,
   "metadata": {
    "ExecuteTime": {
     "end_time": "2021-03-05T08:45:02.273228Z",
     "start_time": "2021-03-05T08:45:02.266247Z"
    },
    "hidden": true
   },
   "outputs": [
    {
     "data": {
      "text/plain": [
       "array([[-5,  0,  0,  0],\n",
       "       [ 0,  0, -3,  0],\n",
       "       [-5, -3,  0, -4],\n",
       "       [ 0,  0, -3,  0],\n",
       "       [ 0, -4,  0, -4],\n",
       "       [-4, -6, -2, -4],\n",
       "       [-4,  0,  0,  0]])"
      ]
     },
     "execution_count": 84,
     "metadata": {},
     "output_type": "execute_result"
    }
   ],
   "source": [
    "np.minimum(arr2d, 0)"
   ]
  },
  {
   "cell_type": "code",
   "execution_count": 85,
   "metadata": {
    "ExecuteTime": {
     "end_time": "2021-03-05T08:45:02.280245Z",
     "start_time": "2021-03-05T08:45:02.274228Z"
    },
    "hidden": true
   },
   "outputs": [
    {
     "data": {
      "text/plain": [
       "array([[0, 2, 2, 4],\n",
       "       [1, 0, 0, 0],\n",
       "       [0, 0, 0, 0],\n",
       "       [0, 0, 0, 1],\n",
       "       [2, 0, 4, 0],\n",
       "       [0, 0, 0, 0],\n",
       "       [0, 3, 1, 1]])"
      ]
     },
     "execution_count": 85,
     "metadata": {},
     "output_type": "execute_result"
    }
   ],
   "source": [
    "np.maximum(arr2d, 0)"
   ]
  },
  {
   "cell_type": "code",
   "execution_count": 86,
   "metadata": {
    "ExecuteTime": {
     "end_time": "2021-03-05T08:45:02.288202Z",
     "start_time": "2021-03-05T08:45:02.282205Z"
    },
    "hidden": true
   },
   "outputs": [
    {
     "data": {
      "text/plain": [
       "array([[-3,  2,  2,  3],\n",
       "       [ 1,  0, -3,  0],\n",
       "       [-3, -3,  0, -3],\n",
       "       [ 0,  0, -3,  1],\n",
       "       [ 2, -3,  3, -3],\n",
       "       [-3, -3, -2, -3],\n",
       "       [-3,  3,  1,  1]])"
      ]
     },
     "execution_count": 86,
     "metadata": {},
     "output_type": "execute_result"
    }
   ],
   "source": [
    "np.clip(a=arr2d, a_min=-3, a_max=3)"
   ]
  },
  {
   "cell_type": "code",
   "execution_count": 87,
   "metadata": {
    "ExecuteTime": {
     "end_time": "2021-03-05T08:45:02.295171Z",
     "start_time": "2021-03-05T08:45:02.289186Z"
    },
    "hidden": true
   },
   "outputs": [
    {
     "data": {
      "text/plain": [
       "array([[ 8,  2,  2,  4],\n",
       "       [ 8,  0,  8,  0],\n",
       "       [ 8,  8,  0, -4],\n",
       "       [ 0,  0,  8,  8],\n",
       "       [ 2, -4,  4, -4],\n",
       "       [-4, -6, -2, -4],\n",
       "       [-4,  8,  8,  8]])"
      ]
     },
     "execution_count": 87,
     "metadata": {},
     "output_type": "execute_result"
    }
   ],
   "source": [
    "np.where(arr2d%2==0, arr2d, 8)"
   ]
  },
  {
   "cell_type": "code",
   "execution_count": 88,
   "metadata": {
    "ExecuteTime": {
     "end_time": "2021-03-05T08:45:02.302151Z",
     "start_time": "2021-03-05T08:45:02.296167Z"
    },
    "hidden": true
   },
   "outputs": [
    {
     "data": {
      "text/plain": [
       "array([[-4,  2,  2,  4],\n",
       "       [ 2,  0, -2,  0],\n",
       "       [-4, -2,  0, -4],\n",
       "       [ 0,  0, -2,  2],\n",
       "       [ 2, -4,  4, -4],\n",
       "       [-4, -6, -2, -4],\n",
       "       [-4,  4,  2,  2]])"
      ]
     },
     "execution_count": 88,
     "metadata": {},
     "output_type": "execute_result"
    }
   ],
   "source": [
    "np.where(arr2d%2==0, arr2d, arr2d+1)"
   ]
  },
  {
   "cell_type": "markdown",
   "metadata": {
    "deletable": false,
    "editable": false,
    "heading_collapsed": true,
    "hidden": true,
    "run_control": {
     "frozen": true
    }
   },
   "source": [
    "#### More Useful Array Operations"
   ]
  },
  {
   "cell_type": "code",
   "execution_count": 89,
   "metadata": {
    "ExecuteTime": {
     "end_time": "2021-03-05T08:45:02.654796Z",
     "start_time": "2021-03-05T08:45:02.649832Z"
    },
    "hidden": true
   },
   "outputs": [
    {
     "name": "stdout",
     "output_type": "stream",
     "text": [
      "\n",
      " <class 'numpy.ndarray'> \t [0 1 2 3 4] \n",
      "\n",
      " <class 'list'> \t\t [0, 1, 2, 3, 4]\n"
     ]
    }
   ],
   "source": [
    "# Converting an ndarray to a list\n",
    "arr_1 = np.arange(5)\n",
    "arr_2 = arr_1.tolist()\n",
    "print(\"\\n\", type(arr_1), \"\\t\", arr_1, \"\\n\\n\", type(arr_2), \"\\t\\t\", arr_2)"
   ]
  },
  {
   "cell_type": "code",
   "execution_count": 90,
   "metadata": {
    "ExecuteTime": {
     "end_time": "2021-03-05T08:45:02.664745Z",
     "start_time": "2021-03-05T08:45:02.659784Z"
    },
    "hidden": true
   },
   "outputs": [
    {
     "name": "stdout",
     "output_type": "stream",
     "text": [
      "\n",
      " float64 \t [-3.7 14.2  9.5 -6.3  8. ] \n",
      "\n",
      " int32 \t\t [-3 14  9 -6  8]\n"
     ]
    }
   ],
   "source": [
    "# Type Casting\n",
    "arr_3 = np.array([-3.7, 14.2, 9.5, -6.3, 8])\n",
    "arr_4 = arr_3.astype(np.int32)\n",
    "print(\"\\n\", arr_3.dtype, \"\\t\", arr_3, \"\\n\\n\", arr_4.dtype, \"\\t\\t\", arr_4)"
   ]
  },
  {
   "cell_type": "code",
   "execution_count": 91,
   "metadata": {
    "ExecuteTime": {
     "end_time": "2021-03-05T08:45:02.671741Z",
     "start_time": "2021-03-05T08:45:02.667737Z"
    },
    "hidden": true
   },
   "outputs": [
    {
     "name": "stdout",
     "output_type": "stream",
     "text": [
      "\n",
      " [-6 -3  8  9 14] \n",
      "\n",
      " [-3 14  9 -6  8]\n"
     ]
    }
   ],
   "source": [
    "# Sort\n",
    "arr_5 = np.sort(a=arr_4)\n",
    "print(\"\\n\", arr_5, \"\\n\\n\", arr_4)"
   ]
  },
  {
   "cell_type": "code",
   "execution_count": 92,
   "metadata": {
    "ExecuteTime": {
     "end_time": "2021-03-05T08:45:02.678740Z",
     "start_time": "2021-03-05T08:45:02.674718Z"
    },
    "hidden": true
   },
   "outputs": [
    {
     "name": "stdout",
     "output_type": "stream",
     "text": [
      "[-6 -3  8  9 14]\n"
     ]
    }
   ],
   "source": [
    "# In-Place Sort\n",
    "arr_4.sort()\n",
    "print(arr_4)"
   ]
  },
  {
   "cell_type": "code",
   "execution_count": 93,
   "metadata": {
    "ExecuteTime": {
     "end_time": "2021-03-05T08:45:02.686684Z",
     "start_time": "2021-03-05T08:45:02.680718Z"
    },
    "hidden": true
   },
   "outputs": [
    {
     "name": "stdout",
     "output_type": "stream",
     "text": [
      "(3, 10, 5)\n"
     ]
    }
   ],
   "source": [
    "# Concatenation\n",
    "arr_6 = np.random.randint(low=-3, high=3, size=(3,1,5))\n",
    "arr_7 = np.random.randint(low=-3, high=3, size=(3,7,5))\n",
    "arr_8 = np.random.randint(low=-3, high=3, size=(3,2,5))\n",
    "\n",
    "arr_cat = np.concatenate((arr_6, arr_7, arr_8), axis=1)\n",
    "print(arr_cat.shape)"
   ]
  },
  {
   "cell_type": "code",
   "execution_count": 94,
   "metadata": {
    "ExecuteTime": {
     "end_time": "2021-03-05T08:45:02.694663Z",
     "start_time": "2021-03-05T08:45:02.688678Z"
    },
    "code_folding": [],
    "hidden": true
   },
   "outputs": [
    {
     "name": "stdout",
     "output_type": "stream",
     "text": [
      "\n",
      " (3, 2, 5, 8) \n",
      " (2, 3, 5, 8) \n",
      " (2, 5, 3, 8) \n",
      " (2, 5, 8, 3)\n"
     ]
    }
   ],
   "source": [
    "# Stacking\n",
    "arr_11 = np.random.randint(low=-3, high=3, size=(2,5,8))\n",
    "arr_12 = np.random.randint(low=-3, high=3, size=(2,5,8))\n",
    "arr_13 = np.random.randint(low=-3, high=3, size=(2,5,8))\n",
    "\n",
    "arr_stack0 = np.stack(arrays=(arr_11, arr_12, arr_13), axis=0)\n",
    "arr_stack1 = np.stack(arrays=(arr_11, arr_12, arr_13), axis=1)\n",
    "arr_stack2 = np.stack(arrays=(arr_11, arr_12, arr_13), axis=2)\n",
    "arr_stack3 = np.stack(arrays=(arr_11, arr_12, arr_13), axis=3)\n",
    "\n",
    "print(\"\\n\", arr_stack0.shape,\n",
    "      \"\\n\", arr_stack1.shape,\n",
    "      \"\\n\", arr_stack2.shape,\n",
    "      \"\\n\", arr_stack3.shape)"
   ]
  },
  {
   "cell_type": "code",
   "execution_count": 95,
   "metadata": {
    "ExecuteTime": {
     "end_time": "2021-03-05T08:45:02.701644Z",
     "start_time": "2021-03-05T08:45:02.696657Z"
    },
    "hidden": true
   },
   "outputs": [
    {
     "name": "stdout",
     "output_type": "stream",
     "text": [
      "\n",
      " (3, 7)\n"
     ]
    }
   ],
   "source": [
    "# Matrix Multiplication\n",
    "arr_14 = np.random.randint(low=-3, high=3, size=(3,5))\n",
    "arr_15 = np.random.randint(low=-3, high=3, size=(5,7))\n",
    "# arr_16 = np.matmul(arr_14, arr_15)\n",
    "arr_16 = arr_14 @ arr_15    # Overloaded operators\n",
    "\n",
    "print(\"\\n\", arr_16.shape)"
   ]
  },
  {
   "cell_type": "markdown",
   "metadata": {
    "deletable": false,
    "editable": false,
    "heading_collapsed": true,
    "hidden": true,
    "run_control": {
     "frozen": true
    }
   },
   "source": [
    "#### <code>***Exercise***</code>\n",
    "This is an optional exercise to test your understanding of NumPy basics. If you find this extremely challenging, then you probably are not ready for the rest of this course yet and don't have enough experience to continue. We would suggest you keep trying to do some more examples, such as [NumPy: the absolute basics for beginners](https://numpy.org/doc/stable/user/absolute_beginners.html).\n",
    "<br><br/>\n",
    "Answer the questions or complete the tasks outlined in bold below, use the specific method described if applicable."
   ]
  },
  {
   "cell_type": "markdown",
   "metadata": {
    "deletable": false,
    "editable": false,
    "heading_collapsed": true,
    "hidden": true,
    "run_control": {
     "frozen": true
    }
   },
   "source": [
    "##### Q1:\n",
    "> <code>**Create an array of 7 fours.**</code>"
   ]
  },
  {
   "cell_type": "code",
   "execution_count": 96,
   "metadata": {
    "ExecuteTime": {
     "end_time": "2021-03-05T08:45:03.372849Z",
     "start_time": "2021-03-05T08:45:03.366868Z"
    },
    "hidden": true
   },
   "outputs": [
    {
     "data": {
      "text/plain": [
       "array([4., 4., 4., 4., 4., 4., 4.])"
      ]
     },
     "execution_count": 96,
     "metadata": {},
     "output_type": "execute_result"
    }
   ],
   "source": []
  },
  {
   "cell_type": "markdown",
   "metadata": {
    "deletable": false,
    "editable": false,
    "heading_collapsed": true,
    "hidden": true,
    "run_control": {
     "frozen": true
    }
   },
   "source": [
    "##### Q2:\n",
    "> <code>**Create an array of all the even integers from 4 to 40.**</code>"
   ]
  },
  {
   "cell_type": "code",
   "execution_count": 97,
   "metadata": {
    "ExecuteTime": {
     "end_time": "2021-03-05T08:45:03.714935Z",
     "start_time": "2021-03-05T08:45:03.709974Z"
    },
    "hidden": true
   },
   "outputs": [
    {
     "data": {
      "text/plain": [
       "array([ 4,  6,  8, 10, 12, 14, 16, 18, 20, 22, 24, 26, 28, 30, 32, 34, 36,\n",
       "       38, 40])"
      ]
     },
     "execution_count": 97,
     "metadata": {},
     "output_type": "execute_result"
    }
   ],
   "source": []
  },
  {
   "cell_type": "markdown",
   "metadata": {
    "deletable": false,
    "editable": false,
    "heading_collapsed": true,
    "hidden": true,
    "run_control": {
     "frozen": true
    }
   },
   "source": [
    "##### Q3:\n",
    "> <code>**Use NumPy to generate a </code>$7\\times3$<code> matrix of random numbers sampled from </code>$\\mathcal N(\\mu=2,\\sigma=5)$.**"
   ]
  },
  {
   "cell_type": "code",
   "execution_count": 98,
   "metadata": {
    "ExecuteTime": {
     "end_time": "2021-03-05T08:45:04.052031Z",
     "start_time": "2021-03-05T08:45:04.046086Z"
    },
    "hidden": true
   },
   "outputs": [
    {
     "data": {
      "text/plain": [
       "array([[ 5.14762745,  2.93431957,  6.66186193],\n",
       "       [ 0.40133075, -5.16125961, -3.90157082],\n",
       "       [ 0.87206842, -1.73738439, -3.29330845],\n",
       "       [ 2.12178384,  1.46380784, -1.5928164 ],\n",
       "       [ 1.82976731,  2.60369603,  2.14766515],\n",
       "       [-2.0839119 ,  1.1754447 ,  3.06162346],\n",
       "       [ 4.55748773,  7.90023513, -6.96325582]])"
      ]
     },
     "execution_count": 98,
     "metadata": {},
     "output_type": "execute_result"
    }
   ],
   "source": []
  },
  {
   "cell_type": "markdown",
   "metadata": {
    "deletable": false,
    "editable": false,
    "heading_collapsed": true,
    "hidden": true,
    "run_control": {
     "frozen": true
    }
   },
   "source": [
    "##### Q4:\n",
    "> <code>**Create the following matrix:**</code>"
   ]
  },
  {
   "cell_type": "code",
   "execution_count": 99,
   "metadata": {
    "ExecuteTime": {
     "end_time": "2021-03-05T08:45:04.391125Z",
     "start_time": "2021-03-05T08:45:04.385169Z"
    },
    "hidden": true
   },
   "outputs": [
    {
     "data": {
      "text/plain": [
       "array([[0.01, 0.02, 0.03, 0.04, 0.05, 0.06, 0.07, 0.08, 0.09, 0.1 ],\n",
       "       [0.11, 0.12, 0.13, 0.14, 0.15, 0.16, 0.17, 0.18, 0.19, 0.2 ],\n",
       "       [0.21, 0.22, 0.23, 0.24, 0.25, 0.26, 0.27, 0.28, 0.29, 0.3 ],\n",
       "       [0.31, 0.32, 0.33, 0.34, 0.35, 0.36, 0.37, 0.38, 0.39, 0.4 ],\n",
       "       [0.41, 0.42, 0.43, 0.44, 0.45, 0.46, 0.47, 0.48, 0.49, 0.5 ],\n",
       "       [0.51, 0.52, 0.53, 0.54, 0.55, 0.56, 0.57, 0.58, 0.59, 0.6 ],\n",
       "       [0.61, 0.62, 0.63, 0.64, 0.65, 0.66, 0.67, 0.68, 0.69, 0.7 ],\n",
       "       [0.71, 0.72, 0.73, 0.74, 0.75, 0.76, 0.77, 0.78, 0.79, 0.8 ],\n",
       "       [0.81, 0.82, 0.83, 0.84, 0.85, 0.86, 0.87, 0.88, 0.89, 0.9 ],\n",
       "       [0.91, 0.92, 0.93, 0.94, 0.95, 0.96, 0.97, 0.98, 0.99, 1.  ]])"
      ]
     },
     "execution_count": 99,
     "metadata": {},
     "output_type": "execute_result"
    }
   ],
   "source": []
  },
  {
   "cell_type": "markdown",
   "metadata": {
    "deletable": false,
    "editable": false,
    "heading_collapsed": true,
    "hidden": true,
    "run_control": {
     "frozen": true
    }
   },
   "source": [
    "##### Q5:\n",
    "> <code>**Now you will be given a few matrices, and be asked to replicate the resulting matrix outputs:**</code>"
   ]
  },
  {
   "cell_type": "code",
   "execution_count": 100,
   "metadata": {
    "ExecuteTime": {
     "end_time": "2021-03-05T08:45:04.728251Z",
     "start_time": "2021-03-05T08:45:04.723248Z"
    },
    "hidden": true
   },
   "outputs": [
    {
     "data": {
      "text/plain": [
       "array([[ 1,  2,  3,  4,  5],\n",
       "       [ 6,  7,  8,  9, 10],\n",
       "       [11, 12, 13, 14, 15],\n",
       "       [16, 17, 18, 19, 20],\n",
       "       [21, 22, 23, 24, 25]])"
      ]
     },
     "execution_count": 100,
     "metadata": {},
     "output_type": "execute_result"
    }
   ],
   "source": [
    "arr2d = np.arange(1,26).reshape(5,5)\n",
    "arr2d"
   ]
  },
  {
   "cell_type": "code",
   "execution_count": 101,
   "metadata": {
    "ExecuteTime": {
     "end_time": "2021-03-05T08:45:04.741102Z",
     "start_time": "2021-03-05T08:45:04.730621Z"
    },
    "hidden": true
   },
   "outputs": [
    {
     "data": {
      "text/plain": [
       "20"
      ]
     },
     "execution_count": 101,
     "metadata": {},
     "output_type": "execute_result"
    }
   ],
   "source": [
    "# Write code here that reproduces the output of the cell\n",
    "arr2d[..."
   ]
  },
  {
   "cell_type": "code",
   "execution_count": 102,
   "metadata": {
    "ExecuteTime": {
     "end_time": "2021-03-05T08:45:04.750079Z",
     "start_time": "2021-03-05T08:45:04.744121Z"
    },
    "hidden": true
   },
   "outputs": [
    {
     "data": {
      "text/plain": [
       "array([21, 22, 23, 24, 25])"
      ]
     },
     "execution_count": 102,
     "metadata": {},
     "output_type": "execute_result"
    }
   ],
   "source": [
    "# Write code here that reproduces the output of the cell\n",
    "arr2d[..."
   ]
  },
  {
   "cell_type": "code",
   "execution_count": 103,
   "metadata": {
    "ExecuteTime": {
     "end_time": "2021-03-05T08:45:04.758056Z",
     "start_time": "2021-03-05T08:45:04.752072Z"
    },
    "hidden": true
   },
   "outputs": [
    {
     "data": {
      "text/plain": [
       "array([[16, 17, 18, 19, 20],\n",
       "       [21, 22, 23, 24, 25]])"
      ]
     },
     "execution_count": 103,
     "metadata": {},
     "output_type": "execute_result"
    }
   ],
   "source": [
    "# Write code here that reproduces the output of the cell\n",
    "arr2d[..."
   ]
  },
  {
   "cell_type": "code",
   "execution_count": 104,
   "metadata": {
    "ExecuteTime": {
     "end_time": "2021-03-05T08:45:04.766068Z",
     "start_time": "2021-03-05T08:45:04.760051Z"
    },
    "hidden": true
   },
   "outputs": [
    {
     "data": {
      "text/plain": [
       "array([[12, 13, 14, 15],\n",
       "       [17, 18, 19, 20],\n",
       "       [22, 23, 24, 25]])"
      ]
     },
     "execution_count": 104,
     "metadata": {},
     "output_type": "execute_result"
    }
   ],
   "source": [
    "# Write code here that reproduces the output of the cell\n",
    "arr2d[..."
   ]
  },
  {
   "cell_type": "code",
   "execution_count": 105,
   "metadata": {
    "ExecuteTime": {
     "end_time": "2021-03-05T08:45:04.773026Z",
     "start_time": "2021-03-05T08:45:04.768030Z"
    },
    "hidden": true
   },
   "outputs": [
    {
     "data": {
      "text/plain": [
       "array([[ 2],\n",
       "       [ 7],\n",
       "       [12]])"
      ]
     },
     "execution_count": 105,
     "metadata": {},
     "output_type": "execute_result"
    }
   ],
   "source": [
    "# Write code here that reproduces the output of the cell\n",
    "arr2d[..."
   ]
  },
  {
   "cell_type": "markdown",
   "metadata": {
    "deletable": false,
    "editable": false,
    "heading_collapsed": true,
    "hidden": true,
    "run_control": {
     "frozen": true
    }
   },
   "source": [
    "##### Q6:\n",
    "> <code>**Get the row wise standard deviation of elements of the following matrix.**</code>"
   ]
  },
  {
   "cell_type": "code",
   "execution_count": 106,
   "metadata": {
    "ExecuteTime": {
     "end_time": "2021-03-05T08:45:05.101139Z",
     "start_time": "2021-03-05T08:45:05.095182Z"
    },
    "hidden": true
   },
   "outputs": [
    {
     "data": {
      "text/plain": [
       "array([[-32, -31, -30, -29, -28, -27, -26, -25],\n",
       "       [-24, -23, -22, -21, -20, -19, -18, -17],\n",
       "       [-16, -15, -14, -13, -12, -11, -10,  -9],\n",
       "       [ -8,  -7,  -6,  -5,  -4,  -3,  -2,  -1],\n",
       "       [  0,   1,   2,   3,   4,   5,   6,   7],\n",
       "       [  8,   9,  10,  11,  12,  13,  14,  15],\n",
       "       [ 16,  17,  18,  19,  20,  21,  22,  23],\n",
       "       [ 24,  25,  26,  27,  28,  29,  30,  31]])"
      ]
     },
     "execution_count": 106,
     "metadata": {},
     "output_type": "execute_result"
    }
   ],
   "source": [
    "arr2d = np.arange(start=-32,stop=32).reshape(8,8)\n",
    "arr2d"
   ]
  },
  {
   "cell_type": "code",
   "execution_count": 107,
   "metadata": {
    "ExecuteTime": {
     "end_time": "2021-03-05T08:45:05.115112Z",
     "start_time": "2021-03-05T08:45:05.102645Z"
    },
    "hidden": true
   },
   "outputs": [
    {
     "data": {
      "text/plain": [
       "array([[2.29128785],\n",
       "       [2.29128785],\n",
       "       [2.29128785],\n",
       "       [2.29128785],\n",
       "       [2.29128785],\n",
       "       [2.29128785],\n",
       "       [2.29128785],\n",
       "       [2.29128785]])"
      ]
     },
     "execution_count": 107,
     "metadata": {},
     "output_type": "execute_result"
    }
   ],
   "source": []
  }
 ],
 "metadata": {
  "kernelspec": {
   "display_name": "Python 3",
   "language": "python",
   "name": "python3"
  },
  "language_info": {
   "codemirror_mode": {
    "name": "ipython",
    "version": 3
   },
   "file_extension": ".py",
   "mimetype": "text/x-python",
   "name": "python",
   "nbconvert_exporter": "python",
   "pygments_lexer": "ipython3",
   "version": "3.8.6"
  },
  "toc": {
   "base_numbering": 1,
   "nav_menu": {},
   "number_sections": true,
   "sideBar": true,
   "skip_h1_title": false,
   "title_cell": "Table of Contents",
   "title_sidebar": "Contents",
   "toc_cell": false,
   "toc_position": {
    "height": "calc(100% - 180px)",
    "left": "10px",
    "top": "150px",
    "width": "202px"
   },
   "toc_section_display": true,
   "toc_window_display": false
  },
  "varInspector": {
   "cols": {
    "lenName": 16,
    "lenType": 16,
    "lenVar": 40
   },
   "kernels_config": {
    "python": {
     "delete_cmd_postfix": "",
     "delete_cmd_prefix": "del ",
     "library": "var_list.py",
     "varRefreshCmd": "print(var_dic_list())"
    },
    "r": {
     "delete_cmd_postfix": ") ",
     "delete_cmd_prefix": "rm(",
     "library": "var_list.r",
     "varRefreshCmd": "cat(var_dic_list()) "
    }
   },
   "position": {
    "height": "489.4px",
    "left": "901px",
    "right": "20px",
    "top": "120px",
    "width": "359px"
   },
   "types_to_exclude": [
    "module",
    "function",
    "builtin_function_or_method",
    "instance",
    "_Feature"
   ],
   "window_display": false
  }
 },
 "nbformat": 4,
 "nbformat_minor": 2
}
